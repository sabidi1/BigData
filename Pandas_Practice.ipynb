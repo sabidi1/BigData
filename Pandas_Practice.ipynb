{
  "nbformat": 4,
  "nbformat_minor": 0,
  "metadata": {
    "colab": {
      "name": "Pandas_Practice.ipynb",
      "version": "0.3.2",
      "provenance": [],
      "collapsed_sections": [],
      "include_colab_link": true
    },
    "kernelspec": {
      "name": "python3",
      "display_name": "Python 3"
    }
  },
  "cells": [
    {
      "cell_type": "markdown",
      "metadata": {
        "id": "view-in-github",
        "colab_type": "text"
      },
      "source": [
        "<a href=\"https://colab.research.google.com/github/sabidi1/BigData/blob/master/Pandas_Practice.ipynb\" target=\"_parent\"><img src=\"https://colab.research.google.com/assets/colab-badge.svg\" alt=\"Open In Colab\"/></a>"
      ]
    },
    {
      "cell_type": "code",
      "metadata": {
        "id": "XwoCop0apMHR",
        "colab_type": "code",
        "colab": {}
      },
      "source": [
        "import pandas as pd\n",
        "\n",
        "#read in the data set\n",
        "url = 'https://raw.githubusercontent.com/sabidi1/BigData/master/PandasPractice/GlobalTemperatures.csv'\n",
        "\n",
        "temperatures = pd.read_csv(url)\n",
        "#display the first 50 data entries\n",
        "temperatures.head(50)\n",
        "\n",
        "\n",
        "#json = pd.read_json('https://raw.githubusercontent.com/chrisalbon/simulated_datasets/master/data.json')\n",
        "#json.tail(50)\n",
        "#json.shape"
      ],
      "execution_count": 0,
      "outputs": []
    },
    {
      "cell_type": "code",
      "metadata": {
        "id": "6aeIJpSHGqx_",
        "colab_type": "code",
        "colab": {}
      },
      "source": [
        "#last 50 entries/rows.\n",
        "temperatures.tail(50)"
      ],
      "execution_count": 0,
      "outputs": []
    },
    {
      "cell_type": "code",
      "metadata": {
        "id": "TVu_Nja0K1o3",
        "colab_type": "code",
        "colab": {}
      },
      "source": [
        "temperatures['LandAverageTemperature'].describe()"
      ],
      "execution_count": 0,
      "outputs": []
    },
    {
      "cell_type": "code",
      "metadata": {
        "id": "j4PvAjNgLeTQ",
        "colab_type": "code",
        "colab": {}
      },
      "source": [
        "temperatures['LandMaxTemperature'].describe()"
      ],
      "execution_count": 0,
      "outputs": []
    },
    {
      "cell_type": "code",
      "metadata": {
        "id": "O2OesGFiLpqI",
        "colab_type": "code",
        "colab": {}
      },
      "source": [
        "temperatures['LandAndOceanAverageTemperature'].describe()"
      ],
      "execution_count": 0,
      "outputs": []
    },
    {
      "cell_type": "code",
      "metadata": {
        "id": "CCS_7fnnM3Rs",
        "colab_type": "code",
        "colab": {}
      },
      "source": [
        "temperatures[['LandMaxTemperature','LandAndOceanAverageTemperature']]"
      ],
      "execution_count": 0,
      "outputs": []
    },
    {
      "cell_type": "code",
      "metadata": {
        "id": "7UcFSciJMbdD",
        "colab_type": "code",
        "colab": {}
      },
      "source": [
        "temperatures[0:10]"
      ],
      "execution_count": 0,
      "outputs": []
    },
    {
      "cell_type": "code",
      "metadata": {
        "id": "6MroC9gobEUk",
        "colab_type": "code",
        "colab": {}
      },
      "source": [
        "#Select a subset of rows\n",
        "temperatures.iloc[1:10, 1:4]"
      ],
      "execution_count": 0,
      "outputs": []
    },
    {
      "cell_type": "code",
      "metadata": {
        "id": "Z4VG83NRsi-m",
        "colab_type": "code",
        "colab": {}
      },
      "source": [
        "#select a subset of columns\n",
        "temperatures.loc[1:10,['LandAverageTemperature', 'LandMaxTemperature' ]]"
      ],
      "execution_count": 0,
      "outputs": []
    },
    {
      "cell_type": "code",
      "metadata": {
        "id": "_KP4Npg6upxp",
        "colab_type": "code",
        "colab": {}
      },
      "source": [
        "#filter data and show first 50 entries\n",
        "temperatures[temperatures.LandAverageTemperature > 4].iloc[:50]\n",
        "                                                          "
      ],
      "execution_count": 0,
      "outputs": []
    },
    {
      "cell_type": "code",
      "metadata": {
        "id": "7ZbBy2vDAhIo",
        "colab_type": "code",
        "colab": {}
      },
      "source": [
        "#find  all entries with missing values. Display the first 10 entries.\n",
        "null_data = temperatures[temperatures.isnull().any(axis = 1)]\n",
        "print(temperatures.iloc[:10])"
      ],
      "execution_count": 0,
      "outputs": []
    },
    {
      "cell_type": "code",
      "metadata": {
        "id": "5fP3HkC5CMgN",
        "colab_type": "code",
        "colab": {}
      },
      "source": [
        "#Where temperature > 2, then set it equal to 4.66\n",
        "temperatures.loc[temperatures['LandAverageTemperature'] > 2, 'LandAverageTemperature'] = 4.66\n",
        "temperatures[0:10]"
      ],
      "execution_count": 0,
      "outputs": []
    },
    {
      "cell_type": "code",
      "metadata": {
        "id": "DdYdjKKaHL9_",
        "colab_type": "code",
        "colab": {}
      },
      "source": [
        "#Sort Data in descending order\n",
        "temperatures.sort_values(by='LandAverageTemperatureUncertainty', ascending=False)"
      ],
      "execution_count": 0,
      "outputs": []
    },
    {
      "cell_type": "code",
      "metadata": {
        "id": "ZIph5JJ5IAZV",
        "colab_type": "code",
        "colab": {}
      },
      "source": [
        "#Group Data\n",
        "groupData = temperatures.groupby('LandAverageTemperature')\n",
        "groupData.first()"
      ],
      "execution_count": 0,
      "outputs": []
    }
  ]
}