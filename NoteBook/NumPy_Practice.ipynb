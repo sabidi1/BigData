{
  "nbformat": 4,
  "nbformat_minor": 0,
  "metadata": {
    "colab": {
      "name": "NumPy_Practice.ipynb",
      "version": "0.3.2",
      "provenance": [],
      "include_colab_link": true
    },
    "kernelspec": {
      "name": "python3",
      "display_name": "Python 3"
    }
  },
  "cells": [
    {
      "cell_type": "markdown",
      "metadata": {
        "id": "view-in-github",
        "colab_type": "text"
      },
      "source": [
        "<a href=\"https://colab.research.google.com/github/sabidi1/BigData/blob/master/NumPy_Practice.ipynb\" target=\"_parent\"><img src=\"https://colab.research.google.com/assets/colab-badge.svg\" alt=\"Open In Colab\"/></a>"
      ]
    },
    {
      "cell_type": "code",
      "metadata": {
        "id": "ir8lIuSNMKmf",
        "colab_type": "code",
        "outputId": "03e38a50-ad9e-44a0-99b9-1ad8a78daa11",
        "colab": {
          "base_uri": "https://localhost:8080/",
          "height": 136
        }
      },
      "source": [
        "import numpy as np\n",
        "from scipy.special import factorial\n",
        "\n",
        "\n",
        "arr1d = np.arange(12)\n",
        "arr2d = [[1,2,3],[6,5,4]]\n",
        "\n",
        "\n",
        "print(\"Arr1d:    \",arr1d)\n",
        "print(\"Arr2d:    \",arr2d)\n",
        "# a slice s of [4,5,6] from arr1d\n",
        "s = arr1d[4:7]\n",
        "# set s[1] = 0, \n",
        "s[1] = 0\n",
        "\n",
        "# print out s as well as arr1d\n",
        "print(\"Arr1d:    \",arr1d)\n",
        "print(\"Slice(s): \"   ,s)\n",
        "\n",
        "#Apply vectorized computation of factorial to each element of arr2d\n",
        "arr2d = factorial(arr2d,exact=True )\n",
        "print(\"Factorialized Arr2d:\\n\",arr2d)\n",
        "\n",
        "\n"
      ],
      "execution_count": 14,
      "outputs": [
        {
          "output_type": "stream",
          "text": [
            "Arr1d:     [ 0  1  2  3  4  5  6  7  8  9 10 11]\n",
            "Arr2d:     [[1, 2, 3], [6, 5, 4]]\n",
            "Arr1d:     [ 0  1  2  3  4  0  6  7  8  9 10 11]\n",
            "Slice(s):  [4 0 6]\n",
            "Factorialized Arr2d:\n",
            " [[  1   2   6]\n",
            " [720 120  24]]\n"
          ],
          "name": "stdout"
        }
      ]
    },
    {
      "cell_type": "code",
      "metadata": {
        "id": "DGoKgItpJTTO",
        "colab_type": "code",
        "colab": {}
      },
      "source": [
        ""
      ],
      "execution_count": 0,
      "outputs": []
    }
  ]
}
